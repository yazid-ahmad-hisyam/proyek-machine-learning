{
 "cells": [
  {
   "cell_type": "markdown",
   "id": "624bbe71",
   "metadata": {},
   "source": [
    "# 📊 **PROJECT MACHINE LEARNING**\n",
    "\n",
    "## **Klasifikasi Jamur dan Clustering Wine Menggunakan Machine Learning**\n",
    "\n",
    "**Nama : Yazid Ahmad Hisyam**  \n",
    "**NIM : 4112322013**  \n",
    "\n",
    "**PROGRAM STUDI DIPLOMA STATISTIKA TERAPAN DAN KOMPUTASI**  \n",
    "**FMIPA UNIVERSITAS NEGERI SEMARANG**  \n",
    "**2025**"
   ]
  },
  {
   "cell_type": "markdown",
   "id": "42b9b011",
   "metadata": {},
   "source": [
    "## 1. PENDAHULUAN\n",
    "\n",
    "Pada proyek ini, untuk menganalisis dua jenis data berbeda menggunakan metode klasifikasi dan clustering. Dataset pertama merupakan data karakteristik jamur yang digunakan untuk mengklasifikasikan apakah jamur tersebut beracun atau bisa dimakan. Dataset kedua merupakan data wine merah yang dianalisis menggunakan metode clustering untuk melihat pengelompokan berdasarkan kandungan kimiawinya.\n",
    "\n",
    "Proyek ini bertujuan untuk memahami penerapan algoritma supervised learning dan unsupervised learning secara praktis dengan dataset nyata."
   ]
  },
  {
   "cell_type": "markdown",
   "id": "e9da88e9",
   "metadata": {},
   "source": [
    "### 1.1 Rumusan Masalah\n",
    "\n",
    "1. Bagaimana cara mengklasifikasikan jamur berdasarkan fitur-fitur morfologisnya?\n",
    "2. Bagaimana cara mengelompokkan wine berdasarkan fitur kimia menggunakan metode clustering?\n"
   ]
  },
  {
   "cell_type": "markdown",
   "id": "6e2a0520",
   "metadata": {},
   "source": [
    "### 1.2 Tujuan\n",
    "\n",
    "1. Membangun model klasifikasi untuk memprediksi jenis jamur (beracun atau tidak).\n",
    "2. Menerapkan metode clustering pada dataset wine untuk mengeksplorasi pola pengelompokan."
   ]
  },
  {
   "cell_type": "markdown",
   "id": "e95ab64c",
   "metadata": {},
   "source": [
    "## 2. METODOLOGI\n",
    "\n",
    "Metodologi proyek ini meliputi:\n",
    "1. Pengumpulan dan pemahaman data dari Kaggle.\n",
    "2. Preprocessing data, termasuk encoding dan standarisasi.\n",
    "3. Implementasi algoritma Random Forest untuk klasifikasi.\n",
    "4. Implementasi KMeans untuk clustering dan visualisasi hasil menggunakan PCA."
   ]
  },
  {
   "cell_type": "markdown",
   "id": "3a92ff82",
   "metadata": {},
   "source": [
    "### 2.1 Data dan Deskripsinya\n",
    "\n",
    "#### Dataset 1: Mushroom Classification\n",
    "\n",
    "- **Sumber Data**: Dataset ini diperoleh dari Kaggle dengan tautan [Mushroom Classification](https://www.kaggle.com/datasets/uciml/mushroom-classification).\n",
    "- **Deskripsi Singkat**: Dataset ini berisi data tentang 8124 jenis jamur, dengan 22 fitur kategorikal yang mendeskripsikan karakteristik fisik jamur, seperti bentuk tudung, warna insang, bau, dll. Targetnya adalah kolom `class` yang menunjukkan apakah jamur tersebut bisa dimakan (`edible`) atau beracun (`poisonous`).\n",
    "- **Variabel yang Digunakan**: Semua kolom fitur digunakan sebagai input, dan kolom `class` sebagai target. Beberapa contoh fitur penting: `cap-shape`, `cap-color`, `odor`, `gill-size`, `stalk-shape`, `habitat`, dll.\n",
    "- **Eksplorasi Awal**:\n",
    "  - Semua fitur bertipe kategorikal.\n",
    "  - Tidak terdapat missing value dalam dataset ini.\n",
    "  - Nilai-nilai pada setiap kolom bersifat simbolik dan memerlukan encoding sebelum digunakan untuk model klasifikasi.\n",
    "\n",
    "---\n",
    "\n",
    "#### Dataset 2: Red Wine Quality\n",
    "\n",
    "- **Sumber Data**: Dataset ini juga diperoleh dari Kaggle dengan tautan [Red Wine Quality](https://www.kaggle.com/datasets/uciml/red-wine-quality-cortez-et-al-2009).\n",
    "- **Deskripsi Singkat**: Dataset ini terdiri dari 1599 data wine merah yang masing-masing memiliki 11 fitur kimia seperti tingkat keasaman, kadar alkohol, dan gula residu. Target `quality` merupakan skor kualitas wine dari 0 hingga 10.\n",
    "- **Variabel yang Digunakan**: Semua kolom numerik digunakan untuk clustering, tanpa menggunakan kolom `quality` sebagai label (karena unsupervised learning). Fitur utama termasuk `fixed acidity`, `volatile acidity`, `citric acid`, `residual sugar`, `chlorides`, `alcohol`, dll.\n",
    "- **Eksplorasi Awal**:\n",
    "  - Semua fitur bertipe numerik dan tidak ada nilai yang kosong (missing value).\n",
    "  - Skala antar fitur bervariasi, sehingga dibutuhkan standarisasi sebelum proses clustering."
   ]
  },
  {
   "cell_type": "markdown",
   "id": "77d98176",
   "metadata": {},
   "source": [
    "### 2.2 Metode Analisis Data 1: [Klasifikasi dengan Random Forest]\n",
    "\n",
    "Pada analisis ini, dilakukan klasifikasi jenis jamur (beracun atau dapat dimakan) berdasarkan fitur-fitur morfologis yang tersedia menggunakan algoritma Random Forest. Metode ini dipilih karena mampu menangani data kategorikal dan memberikan performa yang baik dalam klasifikasi multifeature.\n",
    "\n",
    "Dataset ini terdiri dari 22 fitur (semua kategorikal) dan 1 target (class). Semua variabel awalnya ditulis dalam huruf satu karakter (x, e, f, dll), yang masing-masing punya arti tertentu berdasarkan dokumentasi UCI.\n",
    "\n",
    "| Kolom   | Deskripsi   | Nilai                                                   |\n",
    "| ------- | ----------- | ------------------------------------------------------- |\n",
    "| `class` | Jenis jamur | `e` = edible (dapat dimakan), `p` = poisonous (beracun) |\n",
    "\n",
    "---\n",
    "\n",
    "| Kolom                      | Deskripsi                                | Nilai-nilai dan Artinya                                                                                                                                      |\n",
    "| -------------------------- | ---------------------------------------- | ------------------------------------------------------------------------------------------------------------------------------------------------------------ |\n",
    "| `cap-shape`                | Bentuk tudung jamur                      | `b` = bell, `c` = conical, `x` = convex, `f` = flat, `k` = knobbed, `s` = sunken                                                                             |\n",
    "| `cap-surface`              | Permukaan tudung                         | `f` = fibrous, `g` = grooves, `y` = scaly, `s` = smooth                                                                                                      |\n",
    "| `cap-color`                | Warna tudung                             | `n` = brown, `b` = buff, `c` = cinnamon, `g` = gray, `r` = green, `p` = pink, `u` = purple, `e` = red, `w` = white, `y` = yellow                             |\n",
    "| `bruises`                  | Apakah jamur menunjukkan bekas memar?    | `t` = true, `f` = false                                                                                                                                      |\n",
    "| `odor`                     | Bau jamur                                | `a` = almond, `l` = anise, `c` = creosote, `y` = fishy, `f` = foul, `m` = musty, `n` = none, `p` = pungent, `s` = spicy                                      |\n",
    "| `gill-attachment`          | Keterikatan insang pada batang           | `a` = attached, `d` = descending, `f` = free, `n` = notched                                                                                                  |\n",
    "| `gill-spacing`             | Jarak antar insang                       | `c` = close, `w` = crowded, `d` = distant                                                                                                                    |\n",
    "| `gill-size`                | Ukuran insang                            | `b` = broad, `n` = narrow                                                                                                                                    |\n",
    "| `gill-color`               | Warna insang                             | `k` = black, `n` = brown, `b` = buff, `h` = chocolate, `g` = gray, `r` = green, `o` = orange, `p` = pink, `u` = purple, `e` = red, `w` = white, `y` = yellow |\n",
    "| `stalk-shape`              | Bentuk batang                            | `e` = enlarging, `t` = tapering                                                                                                                              |\n",
    "| `stalk-root`               | Jenis akar batang                        | `b` = bulbous, `c` = club, `u` = cup, `e` = equal, `z` = rhizomorphs, `r` = rooted, `?` = missing (tidak diketahui)                                          |\n",
    "| `stalk-surface-above-ring` | Permukaan batang atas cincin             | `f` = fibrous, `y` = scaly, `k` = silky, `s` = smooth                                                                                                        |\n",
    "| `stalk-surface-below-ring` | Permukaan batang bawah cincin            | `f` = fibrous, `y` = scaly, `k` = silky, `s` = smooth                                                                                                        |\n",
    "| `stalk-color-above-ring`   | Warna batang atas cincin                 | `n` = brown, `b` = buff, `c` = cinnamon, `g` = gray, `o` = orange, `p` = pink, `e` = red, `w` = white, `y` = yellow                                          |\n",
    "| `stalk-color-below-ring`   | Warna batang bawah cincin                | *(sama seperti atas)*                                                                                                                                        |\n",
    "| `veil-type`                | Tipe veil (tirai/jaring di bawah tudung) | `p` = partial, `u` = universal *(NB: hanya ada satu nilai: `p` di dataset ini)*                                                                              |\n",
    "| `veil-color`               | Warna veil                               | `n` = brown, `o` = orange, `w` = white, `y` = yellow                                                                                                         |\n",
    "| `ring-number`              | Jumlah cincin di batang                  | `n` = none, `o` = one, `t` = two                                                                                                                             |\n",
    "| `ring-type`                | Tipe cincin                              | `c` = cobwebby, `e` = evanescent, `f` = flaring, `l` = large, `n` = none, `p` = pendant, `s` = sheathing, `z` = zone                                         |\n",
    "| `spore-print-color`        | Warna cetakan spora                      | `k` = black, `n` = brown, `b` = buff, `h` = chocolate, `r` = green, `o` = orange, `u` = purple, `w` = white, `y` = yellow                                    |\n",
    "| `population`               | Ukuran populasi jamur di alam            | `a` = abundant, `c` = clustered, `n` = numerous, `s` = scattered, `v` = several, `y` = solitary                                                              |\n",
    "| `habitat`                  | Habitat jamur                            | `g` = grasses, `l` = leaves, `m` = meadows, `p` = paths, `u` = urban, `w` = waste, `d` = woods                                                               |\n"
   ]
  },
  {
   "cell_type": "markdown",
   "id": "88bf5633",
   "metadata": {},
   "source": [
    "#### Load dan Tampilkan Data Awal"
   ]
  },
  {
   "cell_type": "code",
   "execution_count": 2,
   "id": "0726b0e9",
   "metadata": {},
   "outputs": [
    {
     "data": {
      "text/html": [
       "<div>\n",
       "<style scoped>\n",
       "    .dataframe tbody tr th:only-of-type {\n",
       "        vertical-align: middle;\n",
       "    }\n",
       "\n",
       "    .dataframe tbody tr th {\n",
       "        vertical-align: top;\n",
       "    }\n",
       "\n",
       "    .dataframe thead th {\n",
       "        text-align: right;\n",
       "    }\n",
       "</style>\n",
       "<table border=\"1\" class=\"dataframe\">\n",
       "  <thead>\n",
       "    <tr style=\"text-align: right;\">\n",
       "      <th></th>\n",
       "      <th>class</th>\n",
       "      <th>cap-shape</th>\n",
       "      <th>cap-surface</th>\n",
       "      <th>cap-color</th>\n",
       "      <th>bruises</th>\n",
       "      <th>odor</th>\n",
       "      <th>gill-attachment</th>\n",
       "      <th>gill-spacing</th>\n",
       "      <th>gill-size</th>\n",
       "      <th>gill-color</th>\n",
       "      <th>...</th>\n",
       "      <th>stalk-surface-below-ring</th>\n",
       "      <th>stalk-color-above-ring</th>\n",
       "      <th>stalk-color-below-ring</th>\n",
       "      <th>veil-type</th>\n",
       "      <th>veil-color</th>\n",
       "      <th>ring-number</th>\n",
       "      <th>ring-type</th>\n",
       "      <th>spore-print-color</th>\n",
       "      <th>population</th>\n",
       "      <th>habitat</th>\n",
       "    </tr>\n",
       "  </thead>\n",
       "  <tbody>\n",
       "    <tr>\n",
       "      <th>0</th>\n",
       "      <td>p</td>\n",
       "      <td>x</td>\n",
       "      <td>s</td>\n",
       "      <td>n</td>\n",
       "      <td>t</td>\n",
       "      <td>p</td>\n",
       "      <td>f</td>\n",
       "      <td>c</td>\n",
       "      <td>n</td>\n",
       "      <td>k</td>\n",
       "      <td>...</td>\n",
       "      <td>s</td>\n",
       "      <td>w</td>\n",
       "      <td>w</td>\n",
       "      <td>p</td>\n",
       "      <td>w</td>\n",
       "      <td>o</td>\n",
       "      <td>p</td>\n",
       "      <td>k</td>\n",
       "      <td>s</td>\n",
       "      <td>u</td>\n",
       "    </tr>\n",
       "    <tr>\n",
       "      <th>1</th>\n",
       "      <td>e</td>\n",
       "      <td>x</td>\n",
       "      <td>s</td>\n",
       "      <td>y</td>\n",
       "      <td>t</td>\n",
       "      <td>a</td>\n",
       "      <td>f</td>\n",
       "      <td>c</td>\n",
       "      <td>b</td>\n",
       "      <td>k</td>\n",
       "      <td>...</td>\n",
       "      <td>s</td>\n",
       "      <td>w</td>\n",
       "      <td>w</td>\n",
       "      <td>p</td>\n",
       "      <td>w</td>\n",
       "      <td>o</td>\n",
       "      <td>p</td>\n",
       "      <td>n</td>\n",
       "      <td>n</td>\n",
       "      <td>g</td>\n",
       "    </tr>\n",
       "    <tr>\n",
       "      <th>2</th>\n",
       "      <td>e</td>\n",
       "      <td>b</td>\n",
       "      <td>s</td>\n",
       "      <td>w</td>\n",
       "      <td>t</td>\n",
       "      <td>l</td>\n",
       "      <td>f</td>\n",
       "      <td>c</td>\n",
       "      <td>b</td>\n",
       "      <td>n</td>\n",
       "      <td>...</td>\n",
       "      <td>s</td>\n",
       "      <td>w</td>\n",
       "      <td>w</td>\n",
       "      <td>p</td>\n",
       "      <td>w</td>\n",
       "      <td>o</td>\n",
       "      <td>p</td>\n",
       "      <td>n</td>\n",
       "      <td>n</td>\n",
       "      <td>m</td>\n",
       "    </tr>\n",
       "    <tr>\n",
       "      <th>3</th>\n",
       "      <td>p</td>\n",
       "      <td>x</td>\n",
       "      <td>y</td>\n",
       "      <td>w</td>\n",
       "      <td>t</td>\n",
       "      <td>p</td>\n",
       "      <td>f</td>\n",
       "      <td>c</td>\n",
       "      <td>n</td>\n",
       "      <td>n</td>\n",
       "      <td>...</td>\n",
       "      <td>s</td>\n",
       "      <td>w</td>\n",
       "      <td>w</td>\n",
       "      <td>p</td>\n",
       "      <td>w</td>\n",
       "      <td>o</td>\n",
       "      <td>p</td>\n",
       "      <td>k</td>\n",
       "      <td>s</td>\n",
       "      <td>u</td>\n",
       "    </tr>\n",
       "    <tr>\n",
       "      <th>4</th>\n",
       "      <td>e</td>\n",
       "      <td>x</td>\n",
       "      <td>s</td>\n",
       "      <td>g</td>\n",
       "      <td>f</td>\n",
       "      <td>n</td>\n",
       "      <td>f</td>\n",
       "      <td>w</td>\n",
       "      <td>b</td>\n",
       "      <td>k</td>\n",
       "      <td>...</td>\n",
       "      <td>s</td>\n",
       "      <td>w</td>\n",
       "      <td>w</td>\n",
       "      <td>p</td>\n",
       "      <td>w</td>\n",
       "      <td>o</td>\n",
       "      <td>e</td>\n",
       "      <td>n</td>\n",
       "      <td>a</td>\n",
       "      <td>g</td>\n",
       "    </tr>\n",
       "  </tbody>\n",
       "</table>\n",
       "<p>5 rows × 23 columns</p>\n",
       "</div>"
      ],
      "text/plain": [
       "  class cap-shape cap-surface cap-color bruises odor gill-attachment  \\\n",
       "0     p         x           s         n       t    p               f   \n",
       "1     e         x           s         y       t    a               f   \n",
       "2     e         b           s         w       t    l               f   \n",
       "3     p         x           y         w       t    p               f   \n",
       "4     e         x           s         g       f    n               f   \n",
       "\n",
       "  gill-spacing gill-size gill-color  ... stalk-surface-below-ring  \\\n",
       "0            c         n          k  ...                        s   \n",
       "1            c         b          k  ...                        s   \n",
       "2            c         b          n  ...                        s   \n",
       "3            c         n          n  ...                        s   \n",
       "4            w         b          k  ...                        s   \n",
       "\n",
       "  stalk-color-above-ring stalk-color-below-ring veil-type veil-color  \\\n",
       "0                      w                      w         p          w   \n",
       "1                      w                      w         p          w   \n",
       "2                      w                      w         p          w   \n",
       "3                      w                      w         p          w   \n",
       "4                      w                      w         p          w   \n",
       "\n",
       "  ring-number ring-type spore-print-color population habitat  \n",
       "0           o         p                 k          s       u  \n",
       "1           o         p                 n          n       g  \n",
       "2           o         p                 n          n       m  \n",
       "3           o         p                 k          s       u  \n",
       "4           o         e                 n          a       g  \n",
       "\n",
       "[5 rows x 23 columns]"
      ]
     },
     "execution_count": 2,
     "metadata": {},
     "output_type": "execute_result"
    }
   ],
   "source": [
    "import pandas as pd\n",
    "\n",
    "# Load dataset\n",
    "df = pd.read_csv(\"mushrooms.csv\")\n",
    "\n",
    "# Tampilkan 5 baris pertama\n",
    "df.head()"
   ]
  },
  {
   "cell_type": "markdown",
   "id": "c4758f95",
   "metadata": {},
   "source": [
    "#### Eksplorasi Data"
   ]
  },
  {
   "cell_type": "code",
   "execution_count": 3,
   "id": "0c3d627c",
   "metadata": {},
   "outputs": [
    {
     "name": "stdout",
     "output_type": "stream",
     "text": [
      "<class 'pandas.core.frame.DataFrame'>\n",
      "RangeIndex: 8124 entries, 0 to 8123\n",
      "Data columns (total 23 columns):\n",
      " #   Column                    Non-Null Count  Dtype \n",
      "---  ------                    --------------  ----- \n",
      " 0   class                     8124 non-null   object\n",
      " 1   cap-shape                 8124 non-null   object\n",
      " 2   cap-surface               8124 non-null   object\n",
      " 3   cap-color                 8124 non-null   object\n",
      " 4   bruises                   8124 non-null   object\n",
      " 5   odor                      8124 non-null   object\n",
      " 6   gill-attachment           8124 non-null   object\n",
      " 7   gill-spacing              8124 non-null   object\n",
      " 8   gill-size                 8124 non-null   object\n",
      " 9   gill-color                8124 non-null   object\n",
      " 10  stalk-shape               8124 non-null   object\n",
      " 11  stalk-root                8124 non-null   object\n",
      " 12  stalk-surface-above-ring  8124 non-null   object\n",
      " 13  stalk-surface-below-ring  8124 non-null   object\n",
      " 14  stalk-color-above-ring    8124 non-null   object\n",
      " 15  stalk-color-below-ring    8124 non-null   object\n",
      " 16  veil-type                 8124 non-null   object\n",
      " 17  veil-color                8124 non-null   object\n",
      " 18  ring-number               8124 non-null   object\n",
      " 19  ring-type                 8124 non-null   object\n",
      " 20  spore-print-color         8124 non-null   object\n",
      " 21  population                8124 non-null   object\n",
      " 22  habitat                   8124 non-null   object\n",
      "dtypes: object(23)\n",
      "memory usage: 1.4+ MB\n"
     ]
    },
    {
     "data": {
      "text/plain": [
       "class\n",
       "e    4208\n",
       "p    3916\n",
       "Name: count, dtype: int64"
      ]
     },
     "execution_count": 3,
     "metadata": {},
     "output_type": "execute_result"
    }
   ],
   "source": [
    "# Cek informasi umum\n",
    "df.info()\n",
    "\n",
    "# Cek apakah ada missing value\n",
    "df.isnull().sum()\n",
    "\n",
    "# Distribusi target (edible vs poisonous)\n",
    "df['class'].value_counts()"
   ]
  },
  {
   "cell_type": "markdown",
   "id": "9f2124e4",
   "metadata": {},
   "source": [
    "**Hasil Observasi:**\n",
    "- Dataset terdiri dari 8124 baris dan 23 kolom.\n",
    "- Tidak ditemukan missing value.\n",
    "- Semua kolom bertipe kategorikal (object).\n",
    "- Target `class` terdiri dari dua nilai: `e` (edible) dan `p` (poisonous) dengan distribusi yang relatif seimbang."
   ]
  },
  {
   "cell_type": "markdown",
   "id": "53698f8e",
   "metadata": {},
   "source": [
    "#### Preprocessing Data"
   ]
  },
  {
   "cell_type": "code",
   "execution_count": null,
   "id": "78ec0e85",
   "metadata": {},
   "outputs": [],
   "source": [
    "from sklearn.preprocessing import LabelEncoder\n",
    "\n",
    "# Encode semua fitur kategorikal\n",
    "df_encoded = df.apply(LabelEncoder().fit_transform)\n",
    "\n",
    "# Pisahkan fitur dan target\n",
    "X = df_encoded.drop('class', axis=1)\n",
    "y = df_encoded['class']"
   ]
  },
  {
   "cell_type": "markdown",
   "id": "a12e4f00",
   "metadata": {},
   "source": [
    "#### Split Data Train & Test"
   ]
  },
  {
   "cell_type": "code",
   "execution_count": null,
   "id": "1856aca8",
   "metadata": {},
   "outputs": [],
   "source": [
    "from sklearn.model_selection import train_test_split\n",
    "\n",
    "# Split 70:30\n",
    "X_train, X_test, y_train, y_test = train_test_split(X, y, test_size=0.3, random_state=42)"
   ]
  },
  {
   "cell_type": "markdown",
   "id": "bf338322",
   "metadata": {},
   "source": [
    "#### Inisialisasi dan Pelatihan Random Forest"
   ]
  },
  {
   "cell_type": "code",
   "execution_count": null,
   "id": "ce70b6cc",
   "metadata": {},
   "outputs": [],
   "source": [
    "from sklearn.ensemble import RandomForestClassifier\n",
    "\n",
    "# Inisialisasi model\n",
    "rf = RandomForestClassifier(random_state=42)\n",
    "rf.fit(X_train, y_train)"
   ]
  },
  {
   "cell_type": "markdown",
   "id": "54e57600",
   "metadata": {},
   "source": [
    "####  Evaluasi Model"
   ]
  },
  {
   "cell_type": "code",
   "execution_count": null,
   "id": "cde3b139",
   "metadata": {},
   "outputs": [],
   "source": [
    "from sklearn.metrics import classification_report, accuracy_score, confusion_matrix\n",
    "\n",
    "# Prediksi data test\n",
    "y_pred = rf.predict(X_test)\n",
    "\n",
    "# Evaluasi\n",
    "print(\"Akurasi:\", accuracy_score(y_test, y_pred))\n",
    "print(\"\\nLaporan Klasifikasi:\\n\", classification_report(y_test, y_pred))"
   ]
  },
  {
   "cell_type": "markdown",
   "id": "db56afa2",
   "metadata": {},
   "source": [
    "#### Confusion Matrix"
   ]
  },
  {
   "cell_type": "code",
   "execution_count": null,
   "id": "186981ee",
   "metadata": {},
   "outputs": [],
   "source": [
    "import seaborn as sns\n",
    "import matplotlib.pyplot as plt\n",
    "\n",
    "# Plot confusion matrix\n",
    "cm = confusion_matrix(y_test, y_pred)\n",
    "sns.heatmap(cm, annot=True, fmt='d', cmap='Blues')\n",
    "plt.title(\"Confusion Matrix - Random Forest\")\n",
    "plt.xlabel(\"Predicted\")\n",
    "plt.ylabel(\"Actual\")\n",
    "plt.show()"
   ]
  },
  {
   "cell_type": "markdown",
   "id": "5e51b66c",
   "metadata": {},
   "source": [
    "### 2.3 Metode Analisis Data 2: [Nama Metode]\n",
    "\n",
    "Gunakan metode lain untuk pembanding atau validasi hasil.\n"
   ]
  },
  {
   "cell_type": "markdown",
   "id": "e105b30f",
   "metadata": {},
   "source": [
    "## 3. HASIL DAN PEMBAHASAN\n",
    "\n",
    "- Tampilkan hasil visualisasi, metrik evaluasi, dan interpretasi model.\n",
    "- Bandingkan performa metode yang digunakan.\n",
    "- Analisis kelebihan dan keterbatasan model.\n"
   ]
  },
  {
   "cell_type": "markdown",
   "id": "2b8bd7ca",
   "metadata": {},
   "source": [
    "## 4. KESIMPULAN\n",
    "\n",
    "- Simpulkan hasil analisis dan model terbaik.\n",
    "- Sampaikan implikasi praktis jika ada.\n",
    "- Usulkan pengembangan proyek ke depan.\n"
   ]
  },
  {
   "cell_type": "markdown",
   "id": "acedfaaf",
   "metadata": {},
   "source": [
    "## 5. REFERENSI\n",
    "\n",
    "- Cantumkan pustaka atau tautan dataset, dokumentasi pustaka Python, artikel jurnal atau sumber lain yang digunakan.\n"
   ]
  }
 ],
 "metadata": {
  "kernelspec": {
   "display_name": "Python 3",
   "language": "python",
   "name": "python3"
  },
  "language_info": {
   "codemirror_mode": {
    "name": "ipython",
    "version": 3
   },
   "file_extension": ".py",
   "mimetype": "text/x-python",
   "name": "python",
   "nbconvert_exporter": "python",
   "pygments_lexer": "ipython3",
   "version": "3.12.1"
  }
 },
 "nbformat": 4,
 "nbformat_minor": 5
}
